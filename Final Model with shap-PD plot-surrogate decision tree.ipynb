{
 "cells": [
  {
   "cell_type": "code",
   "execution_count": 1,
   "metadata": {},
   "outputs": [],
   "source": [
    "import pickle\n",
    "import numpy as np\n",
    "import pandas as pd\n",
    "from sklearn.linear_model import LassoLarsCV, LogisticRegressionCV\n",
    "from sklearn.ensemble import RandomForestClassifier\n",
    "from sklearn.pipeline import Pipeline\n",
    "from sklearn.preprocessing import StandardScaler\n",
    "from sklearn.metrics import roc_auc_score\n",
    "from sklearn.model_selection import cross_val_score, train_test_split\n",
    "from sklearn.model_selection import GridSearchCV\n",
    "from sklearn.feature_selection import SelectFromModel\n",
    "from scipy.stats import gmean\n",
    "import xgboost as xgb\n",
    "from xgboost.sklearn import XGBClassifier\n",
    "from xgboost import DMatrix\n",
    "\n",
    "\n",
    "from sklearn.ensemble import VotingClassifier\n",
    "from mlxtend.classifier import StackingClassifier"
   ]
  },
  {
   "cell_type": "code",
   "execution_count": 2,
   "metadata": {},
   "outputs": [],
   "source": [
    "#conda install -c anaconda py-xgboost"
   ]
  },
  {
   "cell_type": "code",
   "execution_count": 3,
   "metadata": {},
   "outputs": [],
   "source": [
    "import warnings\n",
    "warnings.filterwarnings('ignore')"
   ]
  },
  {
   "cell_type": "code",
   "execution_count": 4,
   "metadata": {},
   "outputs": [],
   "source": [
    "from sklearn.model_selection import KFold, cross_val_score, train_test_split\n",
    "\n",
    "\n",
    "def acc(model):\n",
    "    kf = KFold(n_splits=5, shuffle=True, random_state=42).get_n_splits(X_train.values)\n",
    "    cv_auc = cross_val_score(model,X_train ,y_train, cv = kf, scoring = \"roc_auc\")\n",
    "    return (cv_auc)\n"
   ]
  },
  {
   "cell_type": "code",
   "execution_count": 5,
   "metadata": {},
   "outputs": [],
   "source": [
    "X_train = pd.read_csv('xtrain10.csv')\n",
    "y_train = pd.read_csv('ytrain.csv')"
   ]
  },
  {
   "cell_type": "code",
   "execution_count": 6,
   "metadata": {},
   "outputs": [
    {
     "data": {
      "text/html": [
       "<div>\n",
       "<style scoped>\n",
       "    .dataframe tbody tr th:only-of-type {\n",
       "        vertical-align: middle;\n",
       "    }\n",
       "\n",
       "    .dataframe tbody tr th {\n",
       "        vertical-align: top;\n",
       "    }\n",
       "\n",
       "    .dataframe thead th {\n",
       "        text-align: right;\n",
       "    }\n",
       "</style>\n",
       "<table border=\"1\" class=\"dataframe\">\n",
       "  <thead>\n",
       "    <tr style=\"text-align: right;\">\n",
       "      <th></th>\n",
       "      <th>TARGET</th>\n",
       "    </tr>\n",
       "  </thead>\n",
       "  <tbody>\n",
       "    <tr>\n",
       "      <th>0</th>\n",
       "      <td>0.0</td>\n",
       "    </tr>\n",
       "    <tr>\n",
       "      <th>1</th>\n",
       "      <td>0.0</td>\n",
       "    </tr>\n",
       "    <tr>\n",
       "      <th>2</th>\n",
       "      <td>0.0</td>\n",
       "    </tr>\n",
       "    <tr>\n",
       "      <th>3</th>\n",
       "      <td>0.0</td>\n",
       "    </tr>\n",
       "    <tr>\n",
       "      <th>4</th>\n",
       "      <td>0.0</td>\n",
       "    </tr>\n",
       "    <tr>\n",
       "      <th>...</th>\n",
       "      <td>...</td>\n",
       "    </tr>\n",
       "    <tr>\n",
       "      <th>76015</th>\n",
       "      <td>0.0</td>\n",
       "    </tr>\n",
       "    <tr>\n",
       "      <th>76016</th>\n",
       "      <td>0.0</td>\n",
       "    </tr>\n",
       "    <tr>\n",
       "      <th>76017</th>\n",
       "      <td>0.0</td>\n",
       "    </tr>\n",
       "    <tr>\n",
       "      <th>76018</th>\n",
       "      <td>0.0</td>\n",
       "    </tr>\n",
       "    <tr>\n",
       "      <th>76019</th>\n",
       "      <td>0.0</td>\n",
       "    </tr>\n",
       "  </tbody>\n",
       "</table>\n",
       "<p>76020 rows × 1 columns</p>\n",
       "</div>"
      ],
      "text/plain": [
       "       TARGET\n",
       "0         0.0\n",
       "1         0.0\n",
       "2         0.0\n",
       "3         0.0\n",
       "4         0.0\n",
       "...       ...\n",
       "76015     0.0\n",
       "76016     0.0\n",
       "76017     0.0\n",
       "76018     0.0\n",
       "76019     0.0\n",
       "\n",
       "[76020 rows x 1 columns]"
      ]
     },
     "execution_count": 6,
     "metadata": {},
     "output_type": "execute_result"
    }
   ],
   "source": [
    "y_train"
   ]
  },
  {
   "cell_type": "code",
   "execution_count": 7,
   "metadata": {},
   "outputs": [],
   "source": [
    "X_train.drop('Unnamed: 0',axis=1, inplace = True)"
   ]
  },
  {
   "cell_type": "code",
   "execution_count": 8,
   "metadata": {},
   "outputs": [],
   "source": [
    "y_train = np.ravel(y_train)"
   ]
  },
  {
   "cell_type": "code",
   "execution_count": 9,
   "metadata": {},
   "outputs": [
    {
     "data": {
      "text/plain": [
       "array([0., 0., 0., ..., 0., 0., 0.])"
      ]
     },
     "execution_count": 9,
     "metadata": {},
     "output_type": "execute_result"
    }
   ],
   "source": [
    "y_train"
   ]
  },
  {
   "cell_type": "code",
   "execution_count": 10,
   "metadata": {},
   "outputs": [
    {
     "data": {
      "text/html": [
       "<div>\n",
       "<style scoped>\n",
       "    .dataframe tbody tr th:only-of-type {\n",
       "        vertical-align: middle;\n",
       "    }\n",
       "\n",
       "    .dataframe tbody tr th {\n",
       "        vertical-align: top;\n",
       "    }\n",
       "\n",
       "    .dataframe thead th {\n",
       "        text-align: right;\n",
       "    }\n",
       "</style>\n",
       "<table border=\"1\" class=\"dataframe\">\n",
       "  <thead>\n",
       "    <tr style=\"text-align: right;\">\n",
       "      <th></th>\n",
       "      <th>var15</th>\n",
       "      <th>ind_var5</th>\n",
       "      <th>ind_var8_0</th>\n",
       "      <th>ind_var30</th>\n",
       "      <th>num_var5</th>\n",
       "      <th>num_var8_0</th>\n",
       "      <th>num_var30_0</th>\n",
       "      <th>num_var30</th>\n",
       "      <th>num_var42</th>\n",
       "      <th>saldo_var30</th>\n",
       "      <th>var36</th>\n",
       "      <th>num_meses_var5_ult3</th>\n",
       "      <th>num_var4</th>\n",
       "      <th>num_var35</th>\n",
       "    </tr>\n",
       "  </thead>\n",
       "  <tbody>\n",
       "    <tr>\n",
       "      <th>0</th>\n",
       "      <td>23</td>\n",
       "      <td>0</td>\n",
       "      <td>0</td>\n",
       "      <td>0</td>\n",
       "      <td>0</td>\n",
       "      <td>0</td>\n",
       "      <td>3</td>\n",
       "      <td>0</td>\n",
       "      <td>0</td>\n",
       "      <td>0.00</td>\n",
       "      <td>99</td>\n",
       "      <td>0</td>\n",
       "      <td>0</td>\n",
       "      <td>0</td>\n",
       "    </tr>\n",
       "    <tr>\n",
       "      <th>1</th>\n",
       "      <td>34</td>\n",
       "      <td>0</td>\n",
       "      <td>0</td>\n",
       "      <td>1</td>\n",
       "      <td>0</td>\n",
       "      <td>0</td>\n",
       "      <td>6</td>\n",
       "      <td>3</td>\n",
       "      <td>0</td>\n",
       "      <td>300.00</td>\n",
       "      <td>3</td>\n",
       "      <td>1</td>\n",
       "      <td>1</td>\n",
       "      <td>3</td>\n",
       "    </tr>\n",
       "    <tr>\n",
       "      <th>2</th>\n",
       "      <td>23</td>\n",
       "      <td>1</td>\n",
       "      <td>0</td>\n",
       "      <td>1</td>\n",
       "      <td>3</td>\n",
       "      <td>0</td>\n",
       "      <td>3</td>\n",
       "      <td>3</td>\n",
       "      <td>3</td>\n",
       "      <td>3.00</td>\n",
       "      <td>99</td>\n",
       "      <td>3</td>\n",
       "      <td>1</td>\n",
       "      <td>3</td>\n",
       "    </tr>\n",
       "    <tr>\n",
       "      <th>3</th>\n",
       "      <td>37</td>\n",
       "      <td>1</td>\n",
       "      <td>0</td>\n",
       "      <td>1</td>\n",
       "      <td>3</td>\n",
       "      <td>0</td>\n",
       "      <td>3</td>\n",
       "      <td>3</td>\n",
       "      <td>3</td>\n",
       "      <td>70.62</td>\n",
       "      <td>2</td>\n",
       "      <td>2</td>\n",
       "      <td>3</td>\n",
       "      <td>9</td>\n",
       "    </tr>\n",
       "    <tr>\n",
       "      <th>4</th>\n",
       "      <td>39</td>\n",
       "      <td>0</td>\n",
       "      <td>0</td>\n",
       "      <td>1</td>\n",
       "      <td>0</td>\n",
       "      <td>0</td>\n",
       "      <td>6</td>\n",
       "      <td>3</td>\n",
       "      <td>3</td>\n",
       "      <td>135003.00</td>\n",
       "      <td>1</td>\n",
       "      <td>3</td>\n",
       "      <td>1</td>\n",
       "      <td>3</td>\n",
       "    </tr>\n",
       "    <tr>\n",
       "      <th>...</th>\n",
       "      <td>...</td>\n",
       "      <td>...</td>\n",
       "      <td>...</td>\n",
       "      <td>...</td>\n",
       "      <td>...</td>\n",
       "      <td>...</td>\n",
       "      <td>...</td>\n",
       "      <td>...</td>\n",
       "      <td>...</td>\n",
       "      <td>...</td>\n",
       "      <td>...</td>\n",
       "      <td>...</td>\n",
       "      <td>...</td>\n",
       "      <td>...</td>\n",
       "    </tr>\n",
       "    <tr>\n",
       "      <th>76015</th>\n",
       "      <td>48</td>\n",
       "      <td>0</td>\n",
       "      <td>0</td>\n",
       "      <td>0</td>\n",
       "      <td>0</td>\n",
       "      <td>0</td>\n",
       "      <td>3</td>\n",
       "      <td>0</td>\n",
       "      <td>0</td>\n",
       "      <td>0.00</td>\n",
       "      <td>99</td>\n",
       "      <td>0</td>\n",
       "      <td>0</td>\n",
       "      <td>0</td>\n",
       "    </tr>\n",
       "    <tr>\n",
       "      <th>76016</th>\n",
       "      <td>39</td>\n",
       "      <td>0</td>\n",
       "      <td>0</td>\n",
       "      <td>1</td>\n",
       "      <td>0</td>\n",
       "      <td>0</td>\n",
       "      <td>6</td>\n",
       "      <td>3</td>\n",
       "      <td>3</td>\n",
       "      <td>48191.22</td>\n",
       "      <td>2</td>\n",
       "      <td>1</td>\n",
       "      <td>1</td>\n",
       "      <td>3</td>\n",
       "    </tr>\n",
       "    <tr>\n",
       "      <th>76017</th>\n",
       "      <td>23</td>\n",
       "      <td>1</td>\n",
       "      <td>0</td>\n",
       "      <td>1</td>\n",
       "      <td>3</td>\n",
       "      <td>0</td>\n",
       "      <td>3</td>\n",
       "      <td>3</td>\n",
       "      <td>3</td>\n",
       "      <td>3.00</td>\n",
       "      <td>99</td>\n",
       "      <td>2</td>\n",
       "      <td>1</td>\n",
       "      <td>3</td>\n",
       "    </tr>\n",
       "    <tr>\n",
       "      <th>76018</th>\n",
       "      <td>25</td>\n",
       "      <td>1</td>\n",
       "      <td>0</td>\n",
       "      <td>1</td>\n",
       "      <td>3</td>\n",
       "      <td>0</td>\n",
       "      <td>3</td>\n",
       "      <td>3</td>\n",
       "      <td>3</td>\n",
       "      <td>3.00</td>\n",
       "      <td>99</td>\n",
       "      <td>3</td>\n",
       "      <td>1</td>\n",
       "      <td>3</td>\n",
       "    </tr>\n",
       "    <tr>\n",
       "      <th>76019</th>\n",
       "      <td>46</td>\n",
       "      <td>0</td>\n",
       "      <td>0</td>\n",
       "      <td>0</td>\n",
       "      <td>0</td>\n",
       "      <td>0</td>\n",
       "      <td>3</td>\n",
       "      <td>0</td>\n",
       "      <td>0</td>\n",
       "      <td>0.00</td>\n",
       "      <td>99</td>\n",
       "      <td>0</td>\n",
       "      <td>0</td>\n",
       "      <td>0</td>\n",
       "    </tr>\n",
       "  </tbody>\n",
       "</table>\n",
       "<p>76020 rows × 14 columns</p>\n",
       "</div>"
      ],
      "text/plain": [
       "       var15  ind_var5  ind_var8_0  ind_var30  num_var5  num_var8_0  \\\n",
       "0         23         0           0          0         0           0   \n",
       "1         34         0           0          1         0           0   \n",
       "2         23         1           0          1         3           0   \n",
       "3         37         1           0          1         3           0   \n",
       "4         39         0           0          1         0           0   \n",
       "...      ...       ...         ...        ...       ...         ...   \n",
       "76015     48         0           0          0         0           0   \n",
       "76016     39         0           0          1         0           0   \n",
       "76017     23         1           0          1         3           0   \n",
       "76018     25         1           0          1         3           0   \n",
       "76019     46         0           0          0         0           0   \n",
       "\n",
       "       num_var30_0  num_var30  num_var42  saldo_var30  var36  \\\n",
       "0                3          0          0         0.00     99   \n",
       "1                6          3          0       300.00      3   \n",
       "2                3          3          3         3.00     99   \n",
       "3                3          3          3        70.62      2   \n",
       "4                6          3          3    135003.00      1   \n",
       "...            ...        ...        ...          ...    ...   \n",
       "76015            3          0          0         0.00     99   \n",
       "76016            6          3          3     48191.22      2   \n",
       "76017            3          3          3         3.00     99   \n",
       "76018            3          3          3         3.00     99   \n",
       "76019            3          0          0         0.00     99   \n",
       "\n",
       "       num_meses_var5_ult3  num_var4  num_var35  \n",
       "0                        0         0          0  \n",
       "1                        1         1          3  \n",
       "2                        3         1          3  \n",
       "3                        2         3          9  \n",
       "4                        3         1          3  \n",
       "...                    ...       ...        ...  \n",
       "76015                    0         0          0  \n",
       "76016                    1         1          3  \n",
       "76017                    2         1          3  \n",
       "76018                    3         1          3  \n",
       "76019                    0         0          0  \n",
       "\n",
       "[76020 rows x 14 columns]"
      ]
     },
     "execution_count": 10,
     "metadata": {},
     "output_type": "execute_result"
    }
   ],
   "source": [
    "X_train"
   ]
  },
  {
   "cell_type": "code",
   "execution_count": 11,
   "metadata": {},
   "outputs": [
    {
     "data": {
      "text/plain": [
       "numpy.ndarray"
      ]
     },
     "execution_count": 11,
     "metadata": {},
     "output_type": "execute_result"
    }
   ],
   "source": [
    "type(y_train)"
   ]
  },
  {
   "cell_type": "markdown",
   "metadata": {},
   "source": [
    "# Log"
   ]
  },
  {
   "cell_type": "code",
   "execution_count": 12,
   "metadata": {},
   "outputs": [
    {
     "data": {
      "text/plain": [
       "Pipeline(steps=[('scl', StandardScaler()),\n",
       "                ('clf',\n",
       "                 LogisticRegressionCV(cv=5, max_iter=500, n_jobs=-1,\n",
       "                                      random_state=1, scoring='roc_auc'))])"
      ]
     },
     "execution_count": 12,
     "metadata": {},
     "output_type": "execute_result"
    }
   ],
   "source": [
    "# log model\n",
    "logmodel = Pipeline([\n",
    "        (\"scl\", StandardScaler()),\n",
    "        (\"clf\", LogisticRegressionCV(penalty=\"l2\", cv=5, max_iter=500, scoring=\"roc_auc\", \n",
    "                                     n_jobs=-1 ,random_state=1))\n",
    "    ])\n",
    "\n",
    "logmodel.fit(X_train,y_train)\n"
   ]
  },
  {
   "cell_type": "markdown",
   "metadata": {},
   "source": [
    "# XGB1"
   ]
  },
  {
   "cell_type": "code",
   "execution_count": 13,
   "metadata": {},
   "outputs": [],
   "source": [
    "xgbc = xgb.XGBClassifier(max_depth=5, n_estimators=200, learning_rate=0.03, nthread=4, \n",
    "                          subsample=0.6815, colsample_bytree=0.701, seed=1234)\n",
    "xgbcf = xgbc.fit(X_train, y_train, eval_metric=\"auc\", verbose=2)\n",
    "\n",
    "#xgc1_score = np.mean(acc(xgbc))"
   ]
  },
  {
   "cell_type": "markdown",
   "metadata": {},
   "source": [
    "# XGB2"
   ]
  },
  {
   "cell_type": "code",
   "execution_count": 14,
   "metadata": {},
   "outputs": [
    {
     "data": {
      "text/plain": [
       "XGBClassifier(colsample_bytree=0.7, gamma=0.2, max_depth=5, n_estimators=70,\n",
       "              nthread=4, seed=1, subsample=0.4)"
      ]
     },
     "execution_count": 14,
     "metadata": {},
     "output_type": "execute_result"
    }
   ],
   "source": [
    "xgbc2 = xgb.XGBClassifier(max_depth=5, n_estimators=70, learning_rate=0.1, nthread=4, gamma=0.2,\n",
    "                          subsample=0.4, colsample_bytree=0.7, min_child_weight=1, seed=1)\n",
    "\n",
    "xgbc2.fit(X_train, y_train, eval_metric=\"auc\", verbose=0)\n",
    "\n",
    "\n",
    "\n",
    "#sgbc2_score = np.mean(acc(xgbc2))"
   ]
  },
  {
   "cell_type": "markdown",
   "metadata": {},
   "source": [
    "# RF"
   ]
  },
  {
   "cell_type": "code",
   "execution_count": 15,
   "metadata": {},
   "outputs": [],
   "source": [
    "rfc = RandomForestClassifier(n_estimators=10, criterion=\"entropy\", max_features=None, max_depth=7,\n",
    "                             min_samples_leaf=9, n_jobs=4, random_state=1)\n",
    "#rfc.fit(X_train, y_train)\n",
    "\n",
    "#rf_score = np.mean(acc(rfc))"
   ]
  },
  {
   "cell_type": "markdown",
   "metadata": {},
   "source": [
    "# AVG"
   ]
  },
  {
   "cell_type": "code",
   "execution_count": 16,
   "metadata": {},
   "outputs": [],
   "source": [
    "from sklearn.ensemble import VotingClassifier\n",
    "estimators = [('log', logmodel), ('xgb1', xgbc),  ('xgb2' , xgbc2), ('RF' , rfc)\n",
    "              ]\n",
    "av_model = VotingClassifier(estimators = estimators, weights =[0.1,0.3,0.3,0.3], voting='soft')"
   ]
  },
  {
   "cell_type": "markdown",
   "metadata": {},
   "source": [
    "# Stacking"
   ]
  },
  {
   "cell_type": "code",
   "execution_count": 17,
   "metadata": {},
   "outputs": [],
   "source": [
    "reg_stack = StackingClassifier(classifiers=[logmodel,xgbc2, rfc],\n",
    "                              meta_classifier=xgbc,use_features_in_secondary=True)\n",
    "#stk_score =np.mean(acc(reg_stack))\n"
   ]
  },
  {
   "cell_type": "code",
   "execution_count": 18,
   "metadata": {},
   "outputs": [],
   "source": [
    "X_test = pd.read_csv('xtest10.csv')\n",
    "X_test.drop('Unnamed: 0',axis=1, inplace = True)"
   ]
  },
  {
   "cell_type": "code",
   "execution_count": 19,
   "metadata": {},
   "outputs": [
    {
     "data": {
      "text/html": [
       "<div>\n",
       "<style scoped>\n",
       "    .dataframe tbody tr th:only-of-type {\n",
       "        vertical-align: middle;\n",
       "    }\n",
       "\n",
       "    .dataframe tbody tr th {\n",
       "        vertical-align: top;\n",
       "    }\n",
       "\n",
       "    .dataframe thead th {\n",
       "        text-align: right;\n",
       "    }\n",
       "</style>\n",
       "<table border=\"1\" class=\"dataframe\">\n",
       "  <thead>\n",
       "    <tr style=\"text-align: right;\">\n",
       "      <th></th>\n",
       "      <th>var15</th>\n",
       "      <th>ind_var5</th>\n",
       "      <th>ind_var8_0</th>\n",
       "      <th>ind_var30</th>\n",
       "      <th>num_var5</th>\n",
       "      <th>num_var8_0</th>\n",
       "      <th>num_var30_0</th>\n",
       "      <th>num_var30</th>\n",
       "      <th>num_var42</th>\n",
       "      <th>saldo_var30</th>\n",
       "      <th>var36</th>\n",
       "      <th>num_meses_var5_ult3</th>\n",
       "      <th>num_var4</th>\n",
       "      <th>num_var35</th>\n",
       "    </tr>\n",
       "  </thead>\n",
       "  <tbody>\n",
       "    <tr>\n",
       "      <th>0</th>\n",
       "      <td>32</td>\n",
       "      <td>1</td>\n",
       "      <td>0</td>\n",
       "      <td>1</td>\n",
       "      <td>3</td>\n",
       "      <td>0</td>\n",
       "      <td>3</td>\n",
       "      <td>3</td>\n",
       "      <td>3</td>\n",
       "      <td>6.0</td>\n",
       "      <td>3</td>\n",
       "      <td>3</td>\n",
       "      <td>1</td>\n",
       "      <td>3</td>\n",
       "    </tr>\n",
       "    <tr>\n",
       "      <th>1</th>\n",
       "      <td>35</td>\n",
       "      <td>1</td>\n",
       "      <td>0</td>\n",
       "      <td>1</td>\n",
       "      <td>3</td>\n",
       "      <td>0</td>\n",
       "      <td>3</td>\n",
       "      <td>3</td>\n",
       "      <td>3</td>\n",
       "      <td>3.0</td>\n",
       "      <td>3</td>\n",
       "      <td>3</td>\n",
       "      <td>1</td>\n",
       "      <td>3</td>\n",
       "    </tr>\n",
       "    <tr>\n",
       "      <th>2</th>\n",
       "      <td>23</td>\n",
       "      <td>1</td>\n",
       "      <td>0</td>\n",
       "      <td>1</td>\n",
       "      <td>3</td>\n",
       "      <td>0</td>\n",
       "      <td>3</td>\n",
       "      <td>3</td>\n",
       "      <td>3</td>\n",
       "      <td>30.0</td>\n",
       "      <td>3</td>\n",
       "      <td>3</td>\n",
       "      <td>2</td>\n",
       "      <td>6</td>\n",
       "    </tr>\n",
       "    <tr>\n",
       "      <th>3</th>\n",
       "      <td>24</td>\n",
       "      <td>0</td>\n",
       "      <td>0</td>\n",
       "      <td>0</td>\n",
       "      <td>0</td>\n",
       "      <td>0</td>\n",
       "      <td>3</td>\n",
       "      <td>0</td>\n",
       "      <td>0</td>\n",
       "      <td>0.0</td>\n",
       "      <td>99</td>\n",
       "      <td>0</td>\n",
       "      <td>0</td>\n",
       "      <td>0</td>\n",
       "    </tr>\n",
       "    <tr>\n",
       "      <th>4</th>\n",
       "      <td>23</td>\n",
       "      <td>1</td>\n",
       "      <td>0</td>\n",
       "      <td>1</td>\n",
       "      <td>3</td>\n",
       "      <td>0</td>\n",
       "      <td>3</td>\n",
       "      <td>3</td>\n",
       "      <td>3</td>\n",
       "      <td>30.0</td>\n",
       "      <td>3</td>\n",
       "      <td>3</td>\n",
       "      <td>1</td>\n",
       "      <td>3</td>\n",
       "    </tr>\n",
       "    <tr>\n",
       "      <th>...</th>\n",
       "      <td>...</td>\n",
       "      <td>...</td>\n",
       "      <td>...</td>\n",
       "      <td>...</td>\n",
       "      <td>...</td>\n",
       "      <td>...</td>\n",
       "      <td>...</td>\n",
       "      <td>...</td>\n",
       "      <td>...</td>\n",
       "      <td>...</td>\n",
       "      <td>...</td>\n",
       "      <td>...</td>\n",
       "      <td>...</td>\n",
       "      <td>...</td>\n",
       "    </tr>\n",
       "    <tr>\n",
       "      <th>75813</th>\n",
       "      <td>23</td>\n",
       "      <td>0</td>\n",
       "      <td>0</td>\n",
       "      <td>0</td>\n",
       "      <td>0</td>\n",
       "      <td>0</td>\n",
       "      <td>3</td>\n",
       "      <td>0</td>\n",
       "      <td>0</td>\n",
       "      <td>0.0</td>\n",
       "      <td>99</td>\n",
       "      <td>0</td>\n",
       "      <td>0</td>\n",
       "      <td>0</td>\n",
       "    </tr>\n",
       "    <tr>\n",
       "      <th>75814</th>\n",
       "      <td>26</td>\n",
       "      <td>1</td>\n",
       "      <td>0</td>\n",
       "      <td>1</td>\n",
       "      <td>3</td>\n",
       "      <td>0</td>\n",
       "      <td>3</td>\n",
       "      <td>3</td>\n",
       "      <td>3</td>\n",
       "      <td>3.0</td>\n",
       "      <td>3</td>\n",
       "      <td>3</td>\n",
       "      <td>1</td>\n",
       "      <td>3</td>\n",
       "    </tr>\n",
       "    <tr>\n",
       "      <th>75815</th>\n",
       "      <td>24</td>\n",
       "      <td>1</td>\n",
       "      <td>0</td>\n",
       "      <td>1</td>\n",
       "      <td>3</td>\n",
       "      <td>0</td>\n",
       "      <td>3</td>\n",
       "      <td>3</td>\n",
       "      <td>3</td>\n",
       "      <td>90.0</td>\n",
       "      <td>99</td>\n",
       "      <td>3</td>\n",
       "      <td>1</td>\n",
       "      <td>3</td>\n",
       "    </tr>\n",
       "    <tr>\n",
       "      <th>75816</th>\n",
       "      <td>40</td>\n",
       "      <td>1</td>\n",
       "      <td>0</td>\n",
       "      <td>1</td>\n",
       "      <td>3</td>\n",
       "      <td>0</td>\n",
       "      <td>3</td>\n",
       "      <td>3</td>\n",
       "      <td>3</td>\n",
       "      <td>3.0</td>\n",
       "      <td>3</td>\n",
       "      <td>3</td>\n",
       "      <td>1</td>\n",
       "      <td>3</td>\n",
       "    </tr>\n",
       "    <tr>\n",
       "      <th>75817</th>\n",
       "      <td>23</td>\n",
       "      <td>1</td>\n",
       "      <td>0</td>\n",
       "      <td>1</td>\n",
       "      <td>3</td>\n",
       "      <td>0</td>\n",
       "      <td>3</td>\n",
       "      <td>3</td>\n",
       "      <td>3</td>\n",
       "      <td>90.0</td>\n",
       "      <td>3</td>\n",
       "      <td>3</td>\n",
       "      <td>1</td>\n",
       "      <td>3</td>\n",
       "    </tr>\n",
       "  </tbody>\n",
       "</table>\n",
       "<p>75818 rows × 14 columns</p>\n",
       "</div>"
      ],
      "text/plain": [
       "       var15  ind_var5  ind_var8_0  ind_var30  num_var5  num_var8_0  \\\n",
       "0         32         1           0          1         3           0   \n",
       "1         35         1           0          1         3           0   \n",
       "2         23         1           0          1         3           0   \n",
       "3         24         0           0          0         0           0   \n",
       "4         23         1           0          1         3           0   \n",
       "...      ...       ...         ...        ...       ...         ...   \n",
       "75813     23         0           0          0         0           0   \n",
       "75814     26         1           0          1         3           0   \n",
       "75815     24         1           0          1         3           0   \n",
       "75816     40         1           0          1         3           0   \n",
       "75817     23         1           0          1         3           0   \n",
       "\n",
       "       num_var30_0  num_var30  num_var42  saldo_var30  var36  \\\n",
       "0                3          3          3          6.0      3   \n",
       "1                3          3          3          3.0      3   \n",
       "2                3          3          3         30.0      3   \n",
       "3                3          0          0          0.0     99   \n",
       "4                3          3          3         30.0      3   \n",
       "...            ...        ...        ...          ...    ...   \n",
       "75813            3          0          0          0.0     99   \n",
       "75814            3          3          3          3.0      3   \n",
       "75815            3          3          3         90.0     99   \n",
       "75816            3          3          3          3.0      3   \n",
       "75817            3          3          3         90.0      3   \n",
       "\n",
       "       num_meses_var5_ult3  num_var4  num_var35  \n",
       "0                        3         1          3  \n",
       "1                        3         1          3  \n",
       "2                        3         2          6  \n",
       "3                        0         0          0  \n",
       "4                        3         1          3  \n",
       "...                    ...       ...        ...  \n",
       "75813                    0         0          0  \n",
       "75814                    3         1          3  \n",
       "75815                    3         1          3  \n",
       "75816                    3         1          3  \n",
       "75817                    3         1          3  \n",
       "\n",
       "[75818 rows x 14 columns]"
      ]
     },
     "execution_count": 19,
     "metadata": {},
     "output_type": "execute_result"
    }
   ],
   "source": [
    "X_test"
   ]
  },
  {
   "cell_type": "code",
   "execution_count": 20,
   "metadata": {},
   "outputs": [
    {
     "data": {
      "text/html": [
       "<div>\n",
       "<style scoped>\n",
       "    .dataframe tbody tr th:only-of-type {\n",
       "        vertical-align: middle;\n",
       "    }\n",
       "\n",
       "    .dataframe tbody tr th {\n",
       "        vertical-align: top;\n",
       "    }\n",
       "\n",
       "    .dataframe thead th {\n",
       "        text-align: right;\n",
       "    }\n",
       "</style>\n",
       "<table border=\"1\" class=\"dataframe\">\n",
       "  <thead>\n",
       "    <tr style=\"text-align: right;\">\n",
       "      <th></th>\n",
       "      <th>var15</th>\n",
       "      <th>ind_var5</th>\n",
       "      <th>ind_var8_0</th>\n",
       "      <th>ind_var30</th>\n",
       "      <th>num_var5</th>\n",
       "      <th>num_var8_0</th>\n",
       "      <th>num_var30_0</th>\n",
       "      <th>num_var30</th>\n",
       "      <th>num_var42</th>\n",
       "      <th>saldo_var30</th>\n",
       "      <th>var36</th>\n",
       "      <th>num_meses_var5_ult3</th>\n",
       "      <th>num_var4</th>\n",
       "      <th>num_var35</th>\n",
       "    </tr>\n",
       "  </thead>\n",
       "  <tbody>\n",
       "    <tr>\n",
       "      <th>0</th>\n",
       "      <td>23</td>\n",
       "      <td>0</td>\n",
       "      <td>0</td>\n",
       "      <td>0</td>\n",
       "      <td>0</td>\n",
       "      <td>0</td>\n",
       "      <td>3</td>\n",
       "      <td>0</td>\n",
       "      <td>0</td>\n",
       "      <td>0.00</td>\n",
       "      <td>99</td>\n",
       "      <td>0</td>\n",
       "      <td>0</td>\n",
       "      <td>0</td>\n",
       "    </tr>\n",
       "    <tr>\n",
       "      <th>1</th>\n",
       "      <td>34</td>\n",
       "      <td>0</td>\n",
       "      <td>0</td>\n",
       "      <td>1</td>\n",
       "      <td>0</td>\n",
       "      <td>0</td>\n",
       "      <td>6</td>\n",
       "      <td>3</td>\n",
       "      <td>0</td>\n",
       "      <td>300.00</td>\n",
       "      <td>3</td>\n",
       "      <td>1</td>\n",
       "      <td>1</td>\n",
       "      <td>3</td>\n",
       "    </tr>\n",
       "    <tr>\n",
       "      <th>2</th>\n",
       "      <td>23</td>\n",
       "      <td>1</td>\n",
       "      <td>0</td>\n",
       "      <td>1</td>\n",
       "      <td>3</td>\n",
       "      <td>0</td>\n",
       "      <td>3</td>\n",
       "      <td>3</td>\n",
       "      <td>3</td>\n",
       "      <td>3.00</td>\n",
       "      <td>99</td>\n",
       "      <td>3</td>\n",
       "      <td>1</td>\n",
       "      <td>3</td>\n",
       "    </tr>\n",
       "    <tr>\n",
       "      <th>3</th>\n",
       "      <td>37</td>\n",
       "      <td>1</td>\n",
       "      <td>0</td>\n",
       "      <td>1</td>\n",
       "      <td>3</td>\n",
       "      <td>0</td>\n",
       "      <td>3</td>\n",
       "      <td>3</td>\n",
       "      <td>3</td>\n",
       "      <td>70.62</td>\n",
       "      <td>2</td>\n",
       "      <td>2</td>\n",
       "      <td>3</td>\n",
       "      <td>9</td>\n",
       "    </tr>\n",
       "    <tr>\n",
       "      <th>4</th>\n",
       "      <td>39</td>\n",
       "      <td>0</td>\n",
       "      <td>0</td>\n",
       "      <td>1</td>\n",
       "      <td>0</td>\n",
       "      <td>0</td>\n",
       "      <td>6</td>\n",
       "      <td>3</td>\n",
       "      <td>3</td>\n",
       "      <td>135003.00</td>\n",
       "      <td>1</td>\n",
       "      <td>3</td>\n",
       "      <td>1</td>\n",
       "      <td>3</td>\n",
       "    </tr>\n",
       "    <tr>\n",
       "      <th>...</th>\n",
       "      <td>...</td>\n",
       "      <td>...</td>\n",
       "      <td>...</td>\n",
       "      <td>...</td>\n",
       "      <td>...</td>\n",
       "      <td>...</td>\n",
       "      <td>...</td>\n",
       "      <td>...</td>\n",
       "      <td>...</td>\n",
       "      <td>...</td>\n",
       "      <td>...</td>\n",
       "      <td>...</td>\n",
       "      <td>...</td>\n",
       "      <td>...</td>\n",
       "    </tr>\n",
       "    <tr>\n",
       "      <th>76015</th>\n",
       "      <td>48</td>\n",
       "      <td>0</td>\n",
       "      <td>0</td>\n",
       "      <td>0</td>\n",
       "      <td>0</td>\n",
       "      <td>0</td>\n",
       "      <td>3</td>\n",
       "      <td>0</td>\n",
       "      <td>0</td>\n",
       "      <td>0.00</td>\n",
       "      <td>99</td>\n",
       "      <td>0</td>\n",
       "      <td>0</td>\n",
       "      <td>0</td>\n",
       "    </tr>\n",
       "    <tr>\n",
       "      <th>76016</th>\n",
       "      <td>39</td>\n",
       "      <td>0</td>\n",
       "      <td>0</td>\n",
       "      <td>1</td>\n",
       "      <td>0</td>\n",
       "      <td>0</td>\n",
       "      <td>6</td>\n",
       "      <td>3</td>\n",
       "      <td>3</td>\n",
       "      <td>48191.22</td>\n",
       "      <td>2</td>\n",
       "      <td>1</td>\n",
       "      <td>1</td>\n",
       "      <td>3</td>\n",
       "    </tr>\n",
       "    <tr>\n",
       "      <th>76017</th>\n",
       "      <td>23</td>\n",
       "      <td>1</td>\n",
       "      <td>0</td>\n",
       "      <td>1</td>\n",
       "      <td>3</td>\n",
       "      <td>0</td>\n",
       "      <td>3</td>\n",
       "      <td>3</td>\n",
       "      <td>3</td>\n",
       "      <td>3.00</td>\n",
       "      <td>99</td>\n",
       "      <td>2</td>\n",
       "      <td>1</td>\n",
       "      <td>3</td>\n",
       "    </tr>\n",
       "    <tr>\n",
       "      <th>76018</th>\n",
       "      <td>25</td>\n",
       "      <td>1</td>\n",
       "      <td>0</td>\n",
       "      <td>1</td>\n",
       "      <td>3</td>\n",
       "      <td>0</td>\n",
       "      <td>3</td>\n",
       "      <td>3</td>\n",
       "      <td>3</td>\n",
       "      <td>3.00</td>\n",
       "      <td>99</td>\n",
       "      <td>3</td>\n",
       "      <td>1</td>\n",
       "      <td>3</td>\n",
       "    </tr>\n",
       "    <tr>\n",
       "      <th>76019</th>\n",
       "      <td>46</td>\n",
       "      <td>0</td>\n",
       "      <td>0</td>\n",
       "      <td>0</td>\n",
       "      <td>0</td>\n",
       "      <td>0</td>\n",
       "      <td>3</td>\n",
       "      <td>0</td>\n",
       "      <td>0</td>\n",
       "      <td>0.00</td>\n",
       "      <td>99</td>\n",
       "      <td>0</td>\n",
       "      <td>0</td>\n",
       "      <td>0</td>\n",
       "    </tr>\n",
       "  </tbody>\n",
       "</table>\n",
       "<p>76020 rows × 14 columns</p>\n",
       "</div>"
      ],
      "text/plain": [
       "       var15  ind_var5  ind_var8_0  ind_var30  num_var5  num_var8_0  \\\n",
       "0         23         0           0          0         0           0   \n",
       "1         34         0           0          1         0           0   \n",
       "2         23         1           0          1         3           0   \n",
       "3         37         1           0          1         3           0   \n",
       "4         39         0           0          1         0           0   \n",
       "...      ...       ...         ...        ...       ...         ...   \n",
       "76015     48         0           0          0         0           0   \n",
       "76016     39         0           0          1         0           0   \n",
       "76017     23         1           0          1         3           0   \n",
       "76018     25         1           0          1         3           0   \n",
       "76019     46         0           0          0         0           0   \n",
       "\n",
       "       num_var30_0  num_var30  num_var42  saldo_var30  var36  \\\n",
       "0                3          0          0         0.00     99   \n",
       "1                6          3          0       300.00      3   \n",
       "2                3          3          3         3.00     99   \n",
       "3                3          3          3        70.62      2   \n",
       "4                6          3          3    135003.00      1   \n",
       "...            ...        ...        ...          ...    ...   \n",
       "76015            3          0          0         0.00     99   \n",
       "76016            6          3          3     48191.22      2   \n",
       "76017            3          3          3         3.00     99   \n",
       "76018            3          3          3         3.00     99   \n",
       "76019            3          0          0         0.00     99   \n",
       "\n",
       "       num_meses_var5_ult3  num_var4  num_var35  \n",
       "0                        0         0          0  \n",
       "1                        1         1          3  \n",
       "2                        3         1          3  \n",
       "3                        2         3          9  \n",
       "4                        3         1          3  \n",
       "...                    ...       ...        ...  \n",
       "76015                    0         0          0  \n",
       "76016                    1         1          3  \n",
       "76017                    2         1          3  \n",
       "76018                    3         1          3  \n",
       "76019                    0         0          0  \n",
       "\n",
       "[76020 rows x 14 columns]"
      ]
     },
     "execution_count": 20,
     "metadata": {},
     "output_type": "execute_result"
    }
   ],
   "source": [
    "X_train"
   ]
  },
  {
   "cell_type": "code",
   "execution_count": 21,
   "metadata": {},
   "outputs": [
    {
     "data": {
      "text/plain": [
       "StackingClassifier(classifiers=[Pipeline(steps=[('scl', StandardScaler()),\n",
       "                                                ('clf',\n",
       "                                                 LogisticRegressionCV(cv=5,\n",
       "                                                                      max_iter=500,\n",
       "                                                                      n_jobs=-1,\n",
       "                                                                      random_state=1,\n",
       "                                                                      scoring='roc_auc'))]),\n",
       "                                XGBClassifier(colsample_bytree=0.7, gamma=0.2,\n",
       "                                              max_depth=5, n_estimators=70,\n",
       "                                              nthread=4, seed=1,\n",
       "                                              subsample=0.4),\n",
       "                                RandomForestClassifier(criterion='entropy',\n",
       "                                                       max_depth=7,\n",
       "                                                       max_features=None,\n",
       "                                                       min_samples_leaf=9,\n",
       "                                                       n_estimators=10,\n",
       "                                                       n_jobs=4,\n",
       "                                                       random_state=1)],\n",
       "                   meta_classifier=XGBClassifier(colsample_bytree=0.701,\n",
       "                                                 learning_rate=0.03,\n",
       "                                                 max_depth=5, n_estimators=200,\n",
       "                                                 nthread=4, seed=1234,\n",
       "                                                 subsample=0.6815),\n",
       "                   use_features_in_secondary=True)"
      ]
     },
     "execution_count": 21,
     "metadata": {},
     "output_type": "execute_result"
    }
   ],
   "source": [
    "reg_stack.fit(X_train,y_train)"
   ]
  },
  {
   "cell_type": "code",
   "execution_count": 22,
   "metadata": {},
   "outputs": [],
   "source": [
    "y_pred= reg_stack.predict_proba(X_test)"
   ]
  },
  {
   "cell_type": "code",
   "execution_count": 23,
   "metadata": {},
   "outputs": [],
   "source": [
    "y_pred = y_pred[:,1]"
   ]
  },
  {
   "cell_type": "code",
   "execution_count": 24,
   "metadata": {},
   "outputs": [],
   "source": [
    "#samplesubmission = pd.read_csv('sample_submission.csv')\n",
    "\n",
    "#output = pd.DataFrame({'ID': samplesubmission.ID, 'TARGET': y_pred})\n",
    "#output.to_csv('submission10.csv', index=False)"
   ]
  },
  {
   "cell_type": "markdown",
   "metadata": {},
   "source": [
    "# Shap Value"
   ]
  },
  {
   "cell_type": "code",
   "execution_count": 25,
   "metadata": {},
   "outputs": [],
   "source": [
    "import shap"
   ]
  },
  {
   "cell_type": "code",
   "execution_count": 26,
   "metadata": {},
   "outputs": [],
   "source": [
    "explainer = shap.TreeExplainer(xgbcf)"
   ]
  },
  {
   "cell_type": "code",
   "execution_count": 27,
   "metadata": {},
   "outputs": [],
   "source": [
    "shap_values = explainer.shap_values(X_train)"
   ]
  },
  {
   "cell_type": "code",
   "execution_count": 28,
   "metadata": {},
   "outputs": [
    {
     "data": {
      "image/png": "[encoded data removed]",
      "text/plain": [
       "<Figure size 576x511.2 with 2 Axes>"
      ]
     },
     "metadata": {
      "needs_background": "light"
     },
     "output_type": "display_data"
    }
   ],
   "source": [
    "shap.summary_plot(shap_values, X_train)"
   ]
  },
  {
   "cell_type": "markdown",
   "metadata": {},
   "source": [
    "The values in the chart below can be interpreted as the mean absolute contribution a feature makes on a model prediction.\n",
    "var15 dominates the global feature importance, which means the model is placing too much importance on one variable, at least on average. If the value drift in the future, the 'TARGET' aka. customer satisfication rate would be influenced badly. Moreover, if this variable is missing for a customer We cannot predict the customer satisfaction precisely."
   ]
  },
  {
   "cell_type": "markdown",
   "metadata": {},
   "source": [
    "# PD plots"
   ]
  },
  {
   "cell_type": "code",
   "execution_count": 29,
   "metadata": {},
   "outputs": [
    {
     "data": {
      "text/html": [
       "['var15', 'ind_var5', 'ind_var8_0', 'ind_var30', 'num_var5', 'num_var8_0', 'num_var30_0', 'num_var30', 'num_var42', 'saldo_var30', 'var36', 'num_meses_var5_ult3', 'num_var4', 'num_var35']"
      ],
      "text/plain": [
       "['var15',\n",
       " 'ind_var5',\n",
       " 'ind_var8_0',\n",
       " 'ind_var30',\n",
       " 'num_var5',\n",
       " 'num_var8_0',\n",
       " 'num_var30_0',\n",
       " 'num_var30',\n",
       " 'num_var42',\n",
       " 'saldo_var30',\n",
       " 'var36',\n",
       " 'num_meses_var5_ult3',\n",
       " 'num_var4',\n",
       " 'num_var35']"
      ]
     },
     "execution_count": 29,
     "metadata": {},
     "output_type": "execute_result"
    }
   ],
   "source": [
    "X_train.columns.values.tolist()  "
   ]
  },
  {
   "cell_type": "code",
   "execution_count": 31,
   "metadata": {},
   "outputs": [
    {
     "name": "stdout",
     "output_type": "stream",
     "text": [
      "Computing partial dependence plots...\n"
     ]
    },
    {
     "data": {
      "image/png": "[encoded data removed]",
      "text/plain": [
       "<Figure size 432x288 with 15 Axes>"
      ]
     },
     "metadata": {
      "needs_background": "light"
     },
     "output_type": "display_data"
    }
   ],
   "source": [
    "import matplotlib.pyplot as plt\n",
    "from sklearn.inspection import partial_dependence\n",
    "from sklearn.inspection import plot_partial_dependence\n",
    "print('Computing partial dependence plots...')\n",
    "#tic = time()\n",
    "features = ['var15', 'ind_var5', 'ind_var8_0', 'ind_var30', 'num_var5', 'num_var8_0', 'num_var30_0', 'num_var30', 'num_var42', 'saldo_var30', 'var36', 'num_meses_var5_ult3', 'num_var4', 'num_var35']\n",
    "display = plot_partial_dependence(\n",
    "       xgbc, X_train, features,\n",
    "       n_jobs=3, grid_resolution=20,\n",
    "    response_method = 'predict_proba'\n",
    ")\n"
   ]
  },
  {
   "cell_type": "code",
   "execution_count": 32,
   "metadata": {},
   "outputs": [],
   "source": [
    "# Let's see two most interesting plots "
   ]
  },
  {
   "cell_type": "code",
   "execution_count": 33,
   "metadata": {},
   "outputs": [
    {
     "name": "stdout",
     "output_type": "stream",
     "text": [
      "Computing partial dependence plots...\n"
     ]
    },
    {
     "data": {
      "image/png": "[encoded data removed]",
      "text/plain": [
       "<Figure size 432x288 with 2 Axes>"
      ]
     },
     "metadata": {
      "needs_background": "light"
     },
     "output_type": "display_data"
    }
   ],
   "source": [
    "print('Computing partial dependence plots...')\n",
    "#tic = time()\n",
    "features = ['var15']\n",
    "display = plot_partial_dependence(\n",
    "       xgbc, X_train, features,\n",
    "       n_jobs=3, grid_resolution=20,\n",
    "    response_method = 'predict_proba'\n",
    ")"
   ]
  },
  {
   "cell_type": "markdown",
   "metadata": {},
   "source": [
    "Among all variables, var 5 has the steepest PD, and it also has the highest shapely value, we speculate it is the most important featrue. "
   ]
  },
  {
   "cell_type": "code",
   "execution_count": 34,
   "metadata": {},
   "outputs": [
    {
     "name": "stdout",
     "output_type": "stream",
     "text": [
      "Computing partial dependence plots...\n"
     ]
    },
    {
     "data": {
      "image/png": "[encoded data removed]",
      "text/plain": [
       "<Figure size 432x288 with 2 Axes>"
      ]
     },
     "metadata": {
      "needs_background": "light"
     },
     "output_type": "display_data"
    }
   ],
   "source": [
    "print('Computing partial dependence plots...')\n",
    "#tic = time()\n",
    "features = ['saldo_var30']\n",
    "display = plot_partial_dependence(\n",
    "       xgbc, X_train, features,\n",
    "       n_jobs=3, grid_resolution=20,\n",
    "    response_method = 'predict_proba'\n",
    ")\n"
   ]
  },
  {
   "cell_type": "code",
   "execution_count": 35,
   "metadata": {},
   "outputs": [],
   "source": [
    "# saldo_var show very steep partial dependence when the value is small (less than about 600), then the pd becomes very small and relatively smooth."
   ]
  },
  {
   "cell_type": "markdown",
   "metadata": {},
   "source": [
    "Train surrogate decision tree\n",
    "Build a decision model to better understand our results"
   ]
  },
  {
   "cell_type": "code",
   "execution_count": 36,
   "metadata": {},
   "outputs": [],
   "source": [
    "from sklearn.tree import DecisionTreeClassifier"
   ]
  },
  {
   "cell_type": "code",
   "execution_count": 37,
   "metadata": {},
   "outputs": [],
   "source": [
    "dtree = DecisionTreeClassifier(max_depth = 3)"
   ]
  },
  {
   "cell_type": "code",
   "execution_count": 38,
   "metadata": {},
   "outputs": [
    {
     "data": {
      "text/plain": [
       "DecisionTreeClassifier(max_depth=3)"
      ]
     },
     "execution_count": 38,
     "metadata": {},
     "output_type": "execute_result"
    }
   ],
   "source": [
    "dtree.fit(X_train, y_train)"
   ]
  },
  {
   "cell_type": "code",
   "execution_count": 39,
   "metadata": {},
   "outputs": [],
   "source": [
    "from sklearn.datasets import load_iris\n",
    "from sklearn import tree\n",
    "clf = tree.DecisionTreeClassifier()"
   ]
  },
  {
   "cell_type": "code",
   "execution_count": 40,
   "metadata": {},
   "outputs": [],
   "source": [
    " \n",
    "clf = clf.fit(X_train, y_train)"
   ]
  },
  {
   "cell_type": "code",
   "execution_count": null,
   "metadata": {},
   "outputs": [],
   "source": []
  },
  {
   "cell_type": "code",
   "execution_count": 41,
   "metadata": {},
   "outputs": [
    {
     "data": {
      "text/html": [
       "[Text(167.4, 195.696, 'X[9] <= 2.955\\ngini = 0.076\\nsamples = 76020\\nvalue = [73012, 3008]'), Text(83.7, 152.208, 'X[0] <= 27.5\\ngini = 0.161\\nsamples = 21289\\nvalue = [19403, 1886]'), Text(41.85, 108.72, 'X[0] <= 25.5\\ngini = 0.048\\nsamples = 11140\\nvalue = [10868, 272]'), Text(20.925, 65.232, 'X[2] <= 0.5\\ngini = 0.038\\nsamples = 9406\\nvalue = [9223, 183]'), Text(10.4625, 21.744, '\\n  (...)  \\n'), Text(31.387500000000003, 21.744, '\\n  (...)  \\n'), Text(62.775000000000006, 65.232, 'X[2] <= 0.5\\ngini = 0.097\\nsamples = 1734\\nvalue = [1645, 89]'), Text(52.3125, 21.744, '\\n  (...)  \\n'), Text(73.2375, 21.744, '\\n  (...)  \\n'), Text(125.55000000000001, 108.72, 'X[6] <= 1.5\\ngini = 0.267\\nsamples = 10149\\nvalue = [8535, 1614]'), Text(104.625, 65.232, 'X[0] <= 50.5\\ngini = 0.023\\nsamples = 339\\nvalue = [335, 4]'), Text(94.16250000000001, 21.744, '\\n  (...)  \\n'), Text(115.0875, 21.744, '\\n  (...)  \\n'), Text(146.475, 65.232, 'X[0] <= 29.5\\ngini = 0.274\\nsamples = 9810\\nvalue = [8200, 1610]'), Text(136.01250000000002, 21.744, '\\n  (...)  \\n'), Text(156.9375, 21.744, '\\n  (...)  \\n'), Text(251.10000000000002, 152.208, 'X[0] <= 26.5\\ngini = 0.04\\nsamples = 54731\\nvalue = [53609, 1122]'), Text(209.25, 108.72, 'X[0] <= 25.5\\ngini = 0.012\\nsamples = 24771\\nvalue = [24627, 144]'), Text(188.32500000000002, 65.232, 'X[0] <= 23.5\\ngini = 0.009\\nsamples = 22425\\nvalue = [22324, 101]'), Text(177.8625, 21.744, '\\n  (...)  \\n'), Text(198.7875, 21.744, '\\n  (...)  \\n'), Text(230.175, 65.232, 'X[9] <= 15.15\\ngini = 0.036\\nsamples = 2346\\nvalue = [2303, 43]'), Text(219.7125, 21.744, '\\n  (...)  \\n'), Text(240.63750000000002, 21.744, '\\n  (...)  \\n'), Text(292.95, 108.72, 'X[9] <= 297.06\\ngini = 0.063\\nsamples = 29960\\nvalue = [28982, 978]'), Text(272.02500000000003, 65.232, 'X[5] <= 1.5\\ngini = 0.096\\nsamples = 13638\\nvalue = [12945, 693]'), Text(261.5625, 21.744, '\\n  (...)  \\n'), Text(282.4875, 21.744, '\\n  (...)  \\n'), Text(313.875, 65.232, 'X[9] <= 8684.67\\ngini = 0.034\\nsamples = 16322\\nvalue = [16037, 285]'), Text(303.4125, 21.744, '\\n  (...)  \\n'), Text(324.33750000000003, 21.744, '\\n  (...)  \\n')]"
      ],
      "text/plain": [
       "[Text(167.4, 195.696, 'X[9] <= 2.955\\ngini = 0.076\\nsamples = 76020\\nvalue = [73012, 3008]'),\n",
       " Text(83.7, 152.208, 'X[0] <= 27.5\\ngini = 0.161\\nsamples = 21289\\nvalue = [19403, 1886]'),\n",
       " Text(41.85, 108.72, 'X[0] <= 25.5\\ngini = 0.048\\nsamples = 11140\\nvalue = [10868, 272]'),\n",
       " Text(20.925, 65.232, 'X[2] <= 0.5\\ngini = 0.038\\nsamples = 9406\\nvalue = [9223, 183]'),\n",
       " Text(10.4625, 21.744, '\\n  (...)  \\n'),\n",
       " Text(31.387500000000003, 21.744, '\\n  (...)  \\n'),\n",
       " Text(62.775000000000006, 65.232, 'X[2] <= 0.5\\ngini = 0.097\\nsamples = 1734\\nvalue = [1645, 89]'),\n",
       " Text(52.3125, 21.744, '\\n  (...)  \\n'),\n",
       " Text(73.2375, 21.744, '\\n  (...)  \\n'),\n",
       " Text(125.55000000000001, 108.72, 'X[6] <= 1.5\\ngini = 0.267\\nsamples = 10149\\nvalue = [8535, 1614]'),\n",
       " Text(104.625, 65.232, 'X[0] <= 50.5\\ngini = 0.023\\nsamples = 339\\nvalue = [335, 4]'),\n",
       " Text(94.16250000000001, 21.744, '\\n  (...)  \\n'),\n",
       " Text(115.0875, 21.744, '\\n  (...)  \\n'),\n",
       " Text(146.475, 65.232, 'X[0] <= 29.5\\ngini = 0.274\\nsamples = 9810\\nvalue = [8200, 1610]'),\n",
       " Text(136.01250000000002, 21.744, '\\n  (...)  \\n'),\n",
       " Text(156.9375, 21.744, '\\n  (...)  \\n'),\n",
       " Text(251.10000000000002, 152.208, 'X[0] <= 26.5\\ngini = 0.04\\nsamples = 54731\\nvalue = [53609, 1122]'),\n",
       " Text(209.25, 108.72, 'X[0] <= 25.5\\ngini = 0.012\\nsamples = 24771\\nvalue = [24627, 144]'),\n",
       " Text(188.32500000000002, 65.232, 'X[0] <= 23.5\\ngini = 0.009\\nsamples = 22425\\nvalue = [22324, 101]'),\n",
       " Text(177.8625, 21.744, '\\n  (...)  \\n'),\n",
       " Text(198.7875, 21.744, '\\n  (...)  \\n'),\n",
       " Text(230.175, 65.232, 'X[9] <= 15.15\\ngini = 0.036\\nsamples = 2346\\nvalue = [2303, 43]'),\n",
       " Text(219.7125, 21.744, '\\n  (...)  \\n'),\n",
       " Text(240.63750000000002, 21.744, '\\n  (...)  \\n'),\n",
       " Text(292.95, 108.72, 'X[9] <= 297.06\\ngini = 0.063\\nsamples = 29960\\nvalue = [28982, 978]'),\n",
       " Text(272.02500000000003, 65.232, 'X[5] <= 1.5\\ngini = 0.096\\nsamples = 13638\\nvalue = [12945, 693]'),\n",
       " Text(261.5625, 21.744, '\\n  (...)  \\n'),\n",
       " Text(282.4875, 21.744, '\\n  (...)  \\n'),\n",
       " Text(313.875, 65.232, 'X[9] <= 8684.67\\ngini = 0.034\\nsamples = 16322\\nvalue = [16037, 285]'),\n",
       " Text(303.4125, 21.744, '\\n  (...)  \\n'),\n",
       " Text(324.33750000000003, 21.744, '\\n  (...)  \\n')]"
      ]
     },
     "execution_count": 41,
     "metadata": {},
     "output_type": "execute_result"
    },
    {
     "data": {
      "image/png": "[encoded data removed]",
      "text/plain": [
       "<Figure size 432x288 with 1 Axes>"
      ]
     },
     "metadata": {
      "needs_background": "light"
     },
     "output_type": "display_data"
    }
   ],
   "source": [
    "tree.plot_tree(clf,max_depth = 3, fontsize =10) "
   ]
  },
  {
   "cell_type": "code",
   "execution_count": null,
   "metadata": {},
   "outputs": [],
   "source": []
  }
 ],
 "metadata": {
  "kernelspec": {
   "display_name": "Python 3",
   "language": "python",
   "name": "python3"
  },
  "language_info": {
   "codemirror_mode": {
    "name": "ipython",
    "version": 3
   },
   "file_extension": ".py",
   "mimetype": "text/x-python",
   "name": "python",
   "nbconvert_exporter": "python",
   "pygments_lexer": "ipython3",
   "version": "3.7.6"
  }
 },
 "nbformat": 4,
 "nbformat_minor": 4
}
